{
 "cells": [
  {
   "cell_type": "markdown",
   "metadata": {},
   "source": [
    "Classe Funcionário: Implemente a classe Funcionário. Um empregado\n",
    "tem um nome (string) e um salário (float). Escreva um construtor com\n",
    "dois parâmetros (nome e salário) e métodos para devolver nome e\n",
    "salário. Adicione o método aumentarSalario (percentual de Aumento)\n",
    "que aumente o salário do funcionário em uma certa porcentagem.\n",
    "Exemplo de uso:"
   ]
  },
  {
   "cell_type": "code",
   "execution_count": 39,
   "metadata": {},
   "outputs": [],
   "source": [
    "class Funcionario():\n",
    "    \n",
    "    def __init__(self, nome, salario):\n",
    "        self.nome = nome\n",
    "        self.salario = salario\n",
    "        \n",
    "    def informacoes(self):\n",
    "        print(f'Nome do funcionario: {self.nome} salario R$ {self.salario}')\n",
    "\n",
    "    def aumentarSalario(self, percentual):\n",
    "        aumento = percentual * self.salario/100\n",
    "        novoSalario = self.salario + aumento\n",
    "        print(f\"Salario atualizado do funcionarios {self.nome} R$:{novoSalario}\")\n",
    "              "
   ]
  },
  {
   "cell_type": "code",
   "execution_count": 37,
   "metadata": {},
   "outputs": [],
   "source": [
    "nome = str(input(\"Digite o nome do Funcionario\"))\n",
    "salario = float(input(\"Digite o valor do salario\"))"
   ]
  },
  {
   "cell_type": "code",
   "execution_count": 40,
   "metadata": {},
   "outputs": [
    {
     "name": "stdout",
     "output_type": "stream",
     "text": [
      "Nome do funcionario: vinicios salario R$ 2500.0\n",
      "Salario atualizado do funcionarios vinicios R$:2750.0\n"
     ]
    }
   ],
   "source": [
    "f1=Funcionario(nome, salario)\n",
    "\n",
    "f1.informacoes()\n",
    "f1.aumentarSalario(10)"
   ]
  }
 ],
 "metadata": {
  "kernelspec": {
   "display_name": "Python 3.9.12 ('base')",
   "language": "python",
   "name": "python3"
  },
  "language_info": {
   "codemirror_mode": {
    "name": "ipython",
    "version": 3
   },
   "file_extension": ".py",
   "mimetype": "text/x-python",
   "name": "python",
   "nbconvert_exporter": "python",
   "pygments_lexer": "ipython3",
   "version": "3.9.12"
  },
  "orig_nbformat": 4,
  "vscode": {
   "interpreter": {
    "hash": "2b315b238527074b48ede1db88856294695fedbd9a1befcadf019011d6f4a552"
   }
  }
 },
 "nbformat": 4,
 "nbformat_minor": 2
}
