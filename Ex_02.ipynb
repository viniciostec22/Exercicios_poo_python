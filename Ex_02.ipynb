{
 "cells": [
  {
   "cell_type": "markdown",
   "metadata": {},
   "source": [
    "2. Classe Pessoa: Crie uma classe que modele uma pessoa:\n",
    "a. Atributos: nome, idade, peso e altura\n",
    "b. Métodos: envelhecer, engordar, emagrecer, crescer. Obs.: Por\n",
    "padrão, a cada ano que nossa pessoa envelhece, sendo a idade\n",
    "dela menor que 21 anos, ela deve crescer 0,5 cm."
   ]
  },
  {
   "cell_type": "code",
   "execution_count": 1,
   "metadata": {},
   "outputs": [],
   "source": [
    "class Pessoa():\n",
    "    \n",
    "    def __init__(self, nome, idade, peso, altura):\n",
    "        self.nome = nome\n",
    "        self.idade = idade\n",
    "        self.peso = peso\n",
    "        self.altura = altura\n",
    "    \n",
    "    def evelhecer(self, anos):\n",
    "        self.idade += anos\n",
    "        return self.idade\n",
    "    \n",
    "    def engordar(self, kilo):\n",
    "        self.peso += kilo\n",
    "    \n",
    "    def emagrecer(self, peso_perdido):\n",
    "        self.peso += peso_perdido\n",
    "    \n",
    "    def crescer(self, anos):\n",
    "        if(self.idade < 21):\n",
    "            self.altura += anos*(0.05)\n",
    "            return self.altura"
   ]
  },
  {
   "cell_type": "code",
   "execution_count": 3,
   "metadata": {},
   "outputs": [],
   "source": [
    "nome   = str(input(\"Digite o nome\"))\n",
    "idade  = int(input(\"Digite sua idade\"))\n",
    "peso   = float(input(\"Digite seus peso \"))\n",
    "altura = float(input(\"Digite sua altura\"))"
   ]
  },
  {
   "cell_type": "code",
   "execution_count": 6,
   "metadata": {},
   "outputs": [
    {
     "name": "stdout",
     "output_type": "stream",
     "text": [
      "{'nome': 'vinicios', 'idade': 10, 'peso': 60.0, 'altura': 1.5}\n",
      "{'nome': 'vinicios', 'idade': 15, 'peso': 72.0, 'altura': 1.75}\n"
     ]
    }
   ],
   "source": [
    "p1 = Pessoa(nome, idade, peso, altura)\n",
    "print(p1.__dict__)\n",
    "\n",
    "p1.evelhecer(5)\n",
    "p1.emagrecer(2)\n",
    "p1.engordar(10)\n",
    "p1.crescer(5)\n",
    "\n",
    "print(p1.__dict__)\n"
   ]
  },
  {
   "cell_type": "markdown",
   "metadata": {},
   "source": []
  }
 ],
 "metadata": {
  "kernelspec": {
   "display_name": "Python 3.9.12 ('base')",
   "language": "python",
   "name": "python3"
  },
  "language_info": {
   "codemirror_mode": {
    "name": "ipython",
    "version": 3
   },
   "file_extension": ".py",
   "mimetype": "text/x-python",
   "name": "python",
   "nbconvert_exporter": "python",
   "pygments_lexer": "ipython3",
   "version": "3.9.12"
  },
  "orig_nbformat": 4,
  "vscode": {
   "interpreter": {
    "hash": "2b315b238527074b48ede1db88856294695fedbd9a1befcadf019011d6f4a552"
   }
  }
 },
 "nbformat": 4,
 "nbformat_minor": 2
}
