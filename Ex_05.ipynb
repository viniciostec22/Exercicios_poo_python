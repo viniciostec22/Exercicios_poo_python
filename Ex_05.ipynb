{
 "cells": [
  {
   "cell_type": "markdown",
   "metadata": {},
   "source": [
    "Classe carro: Implemente uma classe chamada Carro com as seguintes\n",
    "propriedades:\n",
    "a. Um veículo tem um certo consumo de combustível (medidos em\n",
    "km / litro) e uma certa quantidade de combustível no tanque.\n",
    "\n",
    "b. O consumo é especificado no construtor e o nível de combustível\n",
    "inicial é 0.\n",
    "c. Forneça um método andar() que simule o ato de dirigir o veículo\n",
    "por uma certa distância, reduzindo o nível de combustível no\n",
    "tanque de gasolina.\n",
    "d. Forneça um método obterGasolina(), que retorna o nível atual de\n",
    "combustível.\n",
    "e. Forneça um método adicionarGasolina(), para abastecer o\n",
    "tanque. Exemplo de uso:"
   ]
  },
  {
   "cell_type": "code",
   "execution_count": 19,
   "metadata": {},
   "outputs": [],
   "source": [
    "class Carro():\n",
    "\n",
    "    def __init__(self, consumo):\n",
    "        self._consumo = consumo\n",
    "        self._combustivel = 0\n",
    "\n",
    "    def mover(self, km):\n",
    "       consumo = km / self._consumo\n",
    "       self._combustivel -= consumo\n",
    "\n",
    "    def get_Gasolina(self):\n",
    "        return self._combustivel\n",
    "\n",
    "    def set_Gasolina(self, gasolina):\n",
    "        self._combustivel += gasolina\n",
    "        return f\"nivel de Gasolina\",{self._combustivel}"
   ]
  },
  {
   "cell_type": "code",
   "execution_count": 20,
   "metadata": {},
   "outputs": [
    {
     "name": "stdout",
     "output_type": "stream",
     "text": [
      "13.333333333333332\n"
     ]
    }
   ],
   "source": [
    "c1 = Carro(15)\n",
    "c1.set_Gasolina(20)\n",
    "c1.mover(100)\n",
    "\n",
    "print(c1.get_Gasolina())\n"
   ]
  }
 ],
 "metadata": {
  "kernelspec": {
   "display_name": "Python 3.9.12 ('base')",
   "language": "python",
   "name": "python3"
  },
  "language_info": {
   "codemirror_mode": {
    "name": "ipython",
    "version": 3
   },
   "file_extension": ".py",
   "mimetype": "text/x-python",
   "name": "python",
   "nbconvert_exporter": "python",
   "pygments_lexer": "ipython3",
   "version": "3.9.12"
  },
  "orig_nbformat": 4,
  "vscode": {
   "interpreter": {
    "hash": "2b315b238527074b48ede1db88856294695fedbd9a1befcadf019011d6f4a552"
   }
  }
 },
 "nbformat": 4,
 "nbformat_minor": 2
}
