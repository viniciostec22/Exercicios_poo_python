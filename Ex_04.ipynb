{
 "cells": [
  {
   "cell_type": "markdown",
   "metadata": {},
   "source": [
    "Classe Bichinho Virtual: Crie uma classe que modele um Tamagushi\n",
    "(Bichinho Eletrônico):\n",
    "a. Atributos: Nome, Fome, Saúde e Idade b. Métodos: Alterar Nome,\n",
    "Fome, Saúde e Idade; Retornar Nome, Fome, Saúde e Idade Obs.:\n",
    "Existe mais uma informação que devemos levar em consideração,\n",
    "o Humor do nosso tamagushi, este humor é uma combinação entre\n",
    "os atributos Fome e Saúde, ou seja, um campo calculado, então\n",
    "não devemos criar um atributo para armazenar esta informação\n",
    "porque ela pode ser calculada a qualquer momento."
   ]
  },
  {
   "cell_type": "code",
   "execution_count": 39,
   "metadata": {},
   "outputs": [],
   "source": [
    "class Bichinho_eletronico():\n",
    "    \n",
    "    def __init__(self, nome, idade):\n",
    "        self._nome = nome\n",
    "        self._fome = 100\n",
    "        self._saude = 100\n",
    "        self._idade = idade\n",
    "    \n",
    "    def get_nome(self):\n",
    "        return self._nome\n",
    "\n",
    "    def get_fome(self):\n",
    "        return self._fome\n",
    "\n",
    "    def get_saude(self):\n",
    "        return self._saude\n",
    "    \n",
    "    def get_idade(self):\n",
    "        return self._idade\n",
    "\n",
    "    def set_nome(self, novo_nome):\n",
    "        self.nome = novo_nome\n",
    "    \n",
    "    def set_fome(self, nova_fome):\n",
    "        self._fome = nova_fome\n",
    "\n",
    "    def set_saude(self, nova_saude):\n",
    "        self._saude = nova_saude\n",
    "\n",
    "    def set_idade(self, idade):\n",
    "        self._idade = idade\n",
    "    \n",
    "    def get_humor(self):\n",
    "\n",
    "        if self.get_fome() >= 70 and self.get_saude() >= 70:\n",
    "             return \"Estou Feliz!\"\n",
    "\n",
    "        elif self.get_fome() >= 50 and self.get_saude() >= 50:\n",
    "             return \"Eu não estou bem \"\n",
    "        \n",
    "        elif self.get_fome() >= 30 and self.get_saude() >= 30:\n",
    "            return \"Estou com raiva \"\n",
    "\n",
    "        else:\n",
    "            return \"Estou com fome\"\n",
    "    "
   ]
  },
  {
   "cell_type": "code",
   "execution_count": 42,
   "metadata": {},
   "outputs": [
    {
     "name": "stdout",
     "output_type": "stream",
     "text": [
      "mel\n",
      "10\n",
      "Estou Feliz!\n",
      "Estou com raiva \n"
     ]
    }
   ],
   "source": [
    "b1=Bichinho_eletronico('mel',10 )\n",
    "\n",
    "print(b1.get_nome())\n",
    "print(b1.get_idade())\n",
    "print(b1.get_humor())\n",
    "\n",
    "b1.set_fome(50)\n",
    "b1.set_saude(40)\n",
    "\n",
    "print(b1.get_humor())\n"
   ]
  }
 ],
 "metadata": {
  "kernelspec": {
   "display_name": "Python 3.9.12 ('base')",
   "language": "python",
   "name": "python3"
  },
  "language_info": {
   "name": "python",
   "version": "3.9.12"
  },
  "orig_nbformat": 4,
  "vscode": {
   "interpreter": {
    "hash": "2b315b238527074b48ede1db88856294695fedbd9a1befcadf019011d6f4a552"
   }
  }
 },
 "nbformat": 4,
 "nbformat_minor": 2
}
