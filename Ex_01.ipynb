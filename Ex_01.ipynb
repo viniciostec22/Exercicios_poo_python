{
 "cells": [
  {
   "cell_type": "markdown",
   "metadata": {},
   "source": [
    "1. Classe Retangulo: Crie uma classe que modele um retângulo:\n",
    "a. Atributos: LadoA, LadoB (ou Comprimento e Largura, ou Base e\n",
    "Altura, a escolher)\n",
    "b. Métodos: Mudar valor dos lados, Retornar valor dos lados, calcular\n",
    "Área e calcular Perímetro;\n",
    "c. Crie um programa que utilize esta classe. Ele deve pedir ao usuário\n",
    "que informe as medidas de um local. Depois, deve criar um objeto\n",
    "com as medidas e calcular a quantidade de pisos e de rodapés\n",
    "necessárias para o local."
   ]
  },
  {
   "cell_type": "code",
   "execution_count": 5,
   "metadata": {},
   "outputs": [],
   "source": [
    "class Retangulo():\n",
    "    \n",
    "    def __init__(self, comprimento, largura):\n",
    "        self.comprimento = comprimento\n",
    "        self.largura = largura\n",
    "        \n",
    "    def mudar_comprimento(self, novo_comprimento):\n",
    "        self.comprimento = novo_comprimento\n",
    "        \n",
    "    def mudar_largura(self, nova_largura):\n",
    "        self.largura = nova_largura\n",
    "        \n",
    "    def retorna_valor_lados(self):\n",
    "        print(f'{self.comprimento} cm {self.largura} cm')   \n",
    "        \n",
    "    def calc_area(self):\n",
    "        area = self.largura * self.comprimento \n",
    "        return f\"area\", {area}\n",
    "    \n",
    "    def calc_perimetro(self):\n",
    "        perimetro = 2*self.largura + 2*self.comprimento\n",
    "        return f\"Perimetro\", {perimetro}"
   ]
  },
  {
   "cell_type": "code",
   "execution_count": 7,
   "metadata": {},
   "outputs": [
    {
     "name": "stdout",
     "output_type": "stream",
     "text": [
      "{'comprimento': 10, 'largura': 20}\n",
      "10 cm 20 cm\n",
      "('area', {200})\n",
      "('Perimetro', {60})\n",
      "serão necessários ('area', {60})m quadrado(s) de piso e ('Perimetro', {46})m de rodapés para suprir o local\n"
     ]
    }
   ],
   "source": [
    "a = int(input('Digite a comprimento'))\n",
    "b = int(input('Digite a largura'))\n",
    "\n",
    "r1 = Retangulo(a,b)\n",
    "\n",
    "print(r1.__dict__)\n",
    "r1.retorna_valor_lados()\n",
    "print(r1.calc_area())\n",
    "print(r1.calc_perimetro())\n",
    "r1.mudar_comprimento(3)\n",
    "\n",
    "print (f'serão necessários {r1.calc_area()}m quadrado(s) de piso e {r1.calc_perimetro()}m de rodapés')"
   ]
  }
 ],
 "metadata": {
  "kernelspec": {
   "display_name": "Python 3.9.12 ('base')",
   "language": "python",
   "name": "python3"
  },
  "language_info": {
   "codemirror_mode": {
    "name": "ipython",
    "version": 3
   },
   "file_extension": ".py",
   "mimetype": "text/x-python",
   "name": "python",
   "nbconvert_exporter": "python",
   "pygments_lexer": "ipython3",
   "version": "3.9.12"
  },
  "orig_nbformat": 4,
  "vscode": {
   "interpreter": {
    "hash": "2b315b238527074b48ede1db88856294695fedbd9a1befcadf019011d6f4a552"
   }
  }
 },
 "nbformat": 4,
 "nbformat_minor": 2
}
